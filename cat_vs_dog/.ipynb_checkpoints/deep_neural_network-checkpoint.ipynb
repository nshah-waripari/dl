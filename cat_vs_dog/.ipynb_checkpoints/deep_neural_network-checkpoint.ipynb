{
 "cells": [
  {
   "cell_type": "markdown",
   "metadata": {},
   "source": [
    "## Building Deep Neural Network"
   ]
  },
  {
   "cell_type": "markdown",
   "metadata": {},
   "source": [
    "#### 1. Packages"
   ]
  },
  {
   "cell_type": "code",
   "execution_count": 1,
   "metadata": {
    "collapsed": true
   },
   "outputs": [],
   "source": [
    "import numpy as np\n",
    "import matplotlib.pyplot as plt\n",
    "from PIL import Image\n",
    "from random import shuffle\n",
    "import os, sys\n",
    "import scipy\n",
    "from scipy import ndimage\n",
    "%matplotlib inline"
   ]
  },
  {
   "cell_type": "markdown",
   "metadata": {
    "collapsed": true
   },
   "source": [
    "#### Deep Neural Network Implementation Steps\n",
    "1. Initialize the parameters for a L-layer neural network.\n",
    "2. Implement the forward propogation:\n",
    "    a. Implement the linear part (weighted sum) of the L-layer forward propagation.\n",
    "    b. Implement activation functions (relu/sigmoid).\n",
    "    c. Combine the previous two steps into a new [Linear -> Activation] forward functions.\n",
    "    d. Stack the [LINEAR->RELU] forward function L-1 time (for layers 1 through L-1) and add a [LINEAR->SIGMOID] at the end (for the final layer LL).\n",
    "3. Compute the loss.\n",
    "4. Implement the backward propagation:\n",
    "    a. Implement the linear part of the L-layer backward propagation.\n",
    "    b. Implement the gradient of the ACTIVATION function (relu_backward/sigmoid_backward).\n",
    "    c. Combine the previous two steps into a new [Linear -> Activation] backward functions.\n",
    "    d. Stack [LINEAR->RELU] backward L-1 times and add [LINEAR->SIGMOID] backward a L layer.\n",
    "5. Update the learned parameters."
   ]
  },
  {
   "cell_type": "markdown",
   "metadata": {},
   "source": [
    "#### Initialization"
   ]
  },
  {
   "cell_type": "code",
   "execution_count": 8,
   "metadata": {
    "collapsed": true
   },
   "outputs": [],
   "source": [
    "def initialize_parameters_deep(layer_dims):\n",
    "    \"\"\"\n",
    "    Parameters:\n",
    "    layer_dims: list\n",
    "        Array (list) containing the dimension of each layer in the network\n",
    "    Returns:\n",
    "    paramters: dictionary\n",
    "        Dictionary containing initialized parameters \"W1\", \"b1\",...\"WL\", \"bL\":\n",
    "        W1 -- weight matrix of shape (layer_dims[l], layer_dims[l-1])\n",
    "        b1 -- bias vector of shape (layer_dims[l], layer_dims[l-1])\n",
    "    \"\"\"\n",
    "    np.random.seed(3)\n",
    "    parameters = {}\n",
    "    L = len(layer_dims) # no. of layers in the network\n",
    "    \n",
    "    for l in range(L):\n",
    "        parameters[\"W\" + str(l)] = np.random.randn(layer_dims[l], layer_dims[l-1]) * 0.01\n",
    "        parameters[\"b\" + str(l)] = np.zeros((layer_dims[l], 1))\n",
    "        \n",
    "        assert(parameters[\"W\" + str(l)].shape == (layer_dims[l], layer_dims[l-1]))\n",
    "        assert(parameters[\"b\" + str(l)].shape == (layer_dims[l], 1))\n",
    "    \n",
    "    return parameters"
   ]
  },
  {
   "cell_type": "code",
   "execution_count": 9,
   "metadata": {},
   "outputs": [
    {
     "name": "stdout",
     "output_type": "stream",
     "text": [
      "W1 = [[-0.00404677 -0.0054536  -0.01546477  0.00982367 -0.01101068]\n",
      " [-0.01185047 -0.0020565   0.01486148  0.00236716 -0.01023785]\n",
      " [-0.00712993  0.00625245 -0.00160513 -0.00768836 -0.00230031]\n",
      " [ 0.00745056  0.01976111 -0.01244123 -0.00626417 -0.00803766]]\n",
      "b1 = [[ 0.]\n",
      " [ 0.]\n",
      " [ 0.]\n",
      " [ 0.]]\n",
      "W2 = [[-0.02419083 -0.00923792 -0.01023876  0.01123978]\n",
      " [-0.00131914 -0.01623285  0.00646675 -0.00356271]\n",
      " [-0.01743141 -0.0059665  -0.00588594 -0.00873882]]\n",
      "b2 = [[ 0.]\n",
      " [ 0.]\n",
      " [ 0.]]\n"
     ]
    }
   ],
   "source": [
    "# Test Case\n",
    "parameters = initialize_parameters_deep([5,4,3])\n",
    "print(\"W1 = \" + str(parameters[\"W1\"]))\n",
    "print(\"b1 = \" + str(parameters[\"b1\"]))\n",
    "print(\"W2 = \" + str(parameters[\"W2\"]))\n",
    "print(\"b2 = \" + str(parameters[\"b2\"]))"
   ]
  },
  {
   "cell_type": "code",
   "execution_count": null,
   "metadata": {
    "collapsed": true
   },
   "outputs": [],
   "source": []
  }
 ],
 "metadata": {
  "kernelspec": {
   "display_name": "Python 2",
   "language": "python",
   "name": "python2"
  },
  "language_info": {
   "codemirror_mode": {
    "name": "ipython",
    "version": 2
   },
   "file_extension": ".py",
   "mimetype": "text/x-python",
   "name": "python",
   "nbconvert_exporter": "python",
   "pygments_lexer": "ipython2",
   "version": "2.7.10"
  }
 },
 "nbformat": 4,
 "nbformat_minor": 2
}
